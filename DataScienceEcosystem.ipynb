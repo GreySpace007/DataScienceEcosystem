{
 "cells": [
  {
   "cell_type": "markdown",
   "id": "eebf3d16-1dbc-4495-8a96-c59e00ff4b6e",
   "metadata": {},
   "source": [
    "# Data Science Tools and Ecosystem\n"
   ]
  },
  {
   "cell_type": "markdown",
   "id": "4c5f13c8-d1bb-4393-b786-4221569866a5",
   "metadata": {},
   "source": [
    "In this notebook, Data Science Tools and Ecosystem are summarized."
   ]
  },
  {
   "cell_type": "markdown",
   "id": "559dd385-d399-49b9-9b32-fe5161e0abe9",
   "metadata": {},
   "source": [
    "**Objectives:**\n",
    "* List popular Languages used in data science.\n",
    "* List popular Libraries used in data science.\n",
    "* List popular open environment data science tools."
   ]
  },
  {
   "cell_type": "markdown",
   "id": "89a1d627-74cb-4bae-9fb8-a469578f24c8",
   "metadata": {},
   "source": [
    "Some of the popular languages that Data Scientists use are:\n",
    "1.  Python\n",
    "2.  R\n",
    "3.  Scala\n",
    "4.  Julia"
   ]
  },
  {
   "cell_type": "markdown",
   "id": "d656836c-4c6f-4ca3-ad0b-c01462b258f8",
   "metadata": {},
   "source": [
    "Some of the commonly used libraries used by Data Scientists include:\n",
    "1.  Numpy\n",
    "2.  Pandas\n",
    "3.  Keras\n",
    "4.  Tensorflow\n",
    "5.  Matplotlib"
   ]
  },
  {
   "cell_type": "markdown",
   "id": "9ce59f61-b201-49f9-a646-08ccf1348dae",
   "metadata": {},
   "source": [
    "| Data Science Tools |\n",
    "|---|\n",
    "| Jupyter Notebook |\n",
    "| Google Colab |\n",
    "| Anaconda |"
   ]
  },
  {
   "cell_type": "markdown",
   "id": "3bb13f93-f9aa-4da5-8940-ce5a1a799de4",
   "metadata": {},
   "source": [
    "### Below are a few examples of evaluating arithmetic expressions in Python"
   ]
  },
  {
   "cell_type": "code",
   "execution_count": 16,
   "id": "afb72e9a-b31e-49e9-8151-1c7e83f30556",
   "metadata": {},
   "outputs": [
    {
     "data": {
      "text/plain": [
       "17"
      ]
     },
     "execution_count": 16,
     "metadata": {},
     "output_type": "execute_result"
    }
   ],
   "source": [
    "#This a simple arithmetic expression to mutiply then add integers.\n",
    "(3*4)+5"
   ]
  },
  {
   "cell_type": "code",
   "execution_count": 20,
   "id": "79167ed0-058b-4841-83f7-a8fbecf8994c",
   "metadata": {},
   "outputs": [
    {
     "data": {
      "text/plain": [
       "3.3333333333333335"
      ]
     },
     "execution_count": 20,
     "metadata": {},
     "output_type": "execute_result"
    }
   ],
   "source": [
    "#This will convert 200 minutes to hours by dividing by 60.\n",
    "200/60"
   ]
  },
  {
   "cell_type": "markdown",
   "id": "ba7fad43-5420-43ff-8ce5-29acb1833b2b",
   "metadata": {},
   "source": [
    "## Author\n",
    "Abdelrahman Abdelraouf"
   ]
  },
  {
   "cell_type": "code",
   "execution_count": null,
   "id": "fab3d769-7b82-493a-aa69-9949ef94afa2",
   "metadata": {},
   "outputs": [],
   "source": []
  }
 ],
 "metadata": {
  "kernelspec": {
   "display_name": "Python 3 (ipykernel)",
   "language": "python",
   "name": "python3"
  },
  "language_info": {
   "codemirror_mode": {
    "name": "ipython",
    "version": 3
   },
   "file_extension": ".py",
   "mimetype": "text/x-python",
   "name": "python",
   "nbconvert_exporter": "python",
   "pygments_lexer": "ipython3",
   "version": "3.12.4"
  }
 },
 "nbformat": 4,
 "nbformat_minor": 5
}
